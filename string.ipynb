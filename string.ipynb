{
 "cells": [
  {
   "cell_type": "code",
   "execution_count": 2,
   "metadata": {
    "collapsed": true
   },
   "outputs": [
    {
     "name": "stdout",
     "output_type": "stream",
     "text": [
      "Help on built-in module sys:\n\nNAME\n    sys\n\nMODULE REFERENCE\n    https://docs.python.org/3.6/library/sys\n    \n    The following documentation is automatically generated from the Python\n    source files.  It may be incomplete, incorrect or include features that\n    are considered implementation detail and may vary between Python\n    implementations.  When in doubt, consult the module reference at the\n    location listed above.\n\nDESCRIPTION\n    This module provides access to some objects used or maintained by the\n    interpreter and to functions that interact strongly with the interpreter.\n    \n    Dynamic objects:\n    \n    argv -- command line arguments; argv[0] is the script pathname if known\n    path -- module search path; path[0] is the script directory, else ''\n    modules -- dictionary of loaded modules\n    \n    displayhook -- called to show results in an interactive session\n    excepthook -- called to handle any uncaught exception other than SystemExit\n      To customize printing in an interactive session or to install a custom\n      top-level exception handler, assign other functions to replace these.\n    \n    stdin -- standard input file object; used by input()\n    stdout -- standard output file object; used by print()\n    stderr -- standard error object; used for error messages\n      By assigning other file objects (or objects that behave like files)\n      to these, it is possible to redirect all of the interpreter's I/O.\n    \n    last_type -- type of last uncaught exception\n    last_value -- value of last uncaught exception\n    last_traceback -- traceback of last uncaught exception\n      These three are only available in an interactive session after a\n      traceback has been printed.\n    \n    Static objects:\n    \n    builtin_module_names -- tuple of module names built into this interpreter\n    copyright -- copyright notice pertaining to this interpreter\n    exec_prefix -- prefix used to find the machine-specific Python library\n    executable -- absolute path of the executable binary of the Python interpreter\n    float_info -- a struct sequence with information about the float implementation.\n    float_repr_style -- string indicating the style of repr() output for floats\n    hash_info -- a struct sequence with information about the hash algorithm.\n    hexversion -- version information encoded as a single integer\n    implementation -- Python implementation information.\n    int_info -- a struct sequence with information about the int implementation.\n    maxsize -- the largest supported length of containers.\n    maxunicode -- the value of the largest Unicode code point\n    platform -- platform identifier\n    prefix -- prefix used to find the Python library\n    thread_info -- a struct sequence with information about the thread implementation.\n    version -- the version of this interpreter as a string\n    version_info -- version information as a named tuple\n    dllhandle -- [Windows only] integer handle of the Python DLL\n    winver -- [Windows only] version number of the Python DLL\n    _enablelegacywindowsfsencoding -- [Windows only] \n    __stdin__ -- the original stdin; don't touch!\n    __stdout__ -- the original stdout; don't touch!\n    __stderr__ -- the original stderr; don't touch!\n    __displayhook__ -- the original displayhook; don't touch!\n    __excepthook__ -- the original excepthook; don't touch!\n    \n    Functions:\n    \n    displayhook() -- print an object to the screen, and save it in builtins._\n    excepthook() -- print an exception and its traceback to sys.stderr\n    exc_info() -- return thread-safe information about the current exception\n    exit() -- exit the interpreter by raising SystemExit\n    getdlopenflags() -- returns flags to be used for dlopen() calls\n    getprofile() -- get the global profiling function\n    getrefcount() -- return the reference count for an object (plus one :-)\n    getrecursionlimit() -- return the max recursion depth for the interpreter\n    getsizeof() -- return the size of an object in bytes\n    gettrace() -- get the global debug tracing function\n    setcheckinterval() -- control how often the interpreter checks for events\n    setdlopenflags() -- set the flags to be used for dlopen() calls\n    setprofile() -- set the global profiling function\n    setrecursionlimit() -- set the max recursion depth for the interpreter\n    settrace() -- set the global debug tracing function\n\nFUNCTIONS\n    __displayhook__ = displayhook(...)\n        displayhook(object) -> None\n        \n        Print an object to sys.stdout and also save it in builtins._\n    \n    __excepthook__ = excepthook(...)\n        excepthook(exctype, value, traceback) -> None\n        \n        Handle an exception by displaying it with a traceback on sys.stderr.\n    \n    call_tracing(...)\n        call_tracing(func, args) -> object\n        \n        Call func(*args), while tracing is enabled.  The tracing state is\n        saved, and restored afterwards.  This is intended to be called from\n        a debugger from a checkpoint, to recursively debug some other code.\n    \n    callstats(...)\n        callstats() -> tuple of integers\n        \n        Return a tuple of function call statistics, if CALL_PROFILE was defined\n        when Python was built.  Otherwise, return None.\n        \n        When enabled, this function returns detailed, implementation-specific\n        details about the number of function calls executed. The return value is\n        a 11-tuple where the entries in the tuple are counts of:\n        0. all function calls\n        1. calls to PyFunction_Type objects\n        2. PyFunction calls that do not create an argument tuple\n        3. PyFunction calls that do not create an argument tuple\n           and bypass PyEval_EvalCodeEx()\n        4. PyMethod calls\n        5. PyMethod calls on bound methods\n        6. PyType calls\n        7. PyCFunction calls\n        8. generator calls\n        9. All other calls\n        10. Number of stack pops performed by call_function()\n    \n    exc_info(...)\n        exc_info() -> (type, value, traceback)\n        \n        Return information about the most recent exception caught by an except\n        clause in the current stack frame or in an older stack frame.\n    \n    exit(...)\n        exit([status])\n        \n        Exit the interpreter by raising SystemExit(status).\n        If the status is omitted or None, it defaults to zero (i.e., success).\n        If the status is an integer, it will be used as the system exit status.\n        If it is another kind of object, it will be printed and the system\n        exit status will be one (i.e., failure).\n    \n    get_asyncgen_hooks(...)\n        get_asyncgen_hooks()\n        \n        Return a namedtuple of installed asynchronous generators hooks (firstiter, finalizer).\n    \n    get_coroutine_wrapper(...)\n        get_coroutine_wrapper()\n        \n        Return the wrapper for coroutine objects set by sys.set_coroutine_wrapper.\n    \n    getallocatedblocks(...)\n        getallocatedblocks() -> integer\n        \n        Return the number of memory blocks currently allocated, regardless of their\n        size.\n    \n    getcheckinterval(...)\n        getcheckinterval() -> current check interval; see setcheckinterval().\n    \n    getdefaultencoding(...)\n        getdefaultencoding() -> string\n        \n        Return the current default string encoding used by the Unicode \n        implementation.\n    \n    getfilesystemencodeerrors(...)\n        getfilesystemencodeerrors() -> string\n        \n        Return the error mode used to convert Unicode filenames in\n        operating system filenames.\n    \n    getfilesystemencoding(...)\n        getfilesystemencoding() -> string\n        \n        Return the encoding used to convert Unicode filenames in\n        operating system filenames.\n    \n    getprofile(...)\n        getprofile()\n        \n        Return the profiling function set with sys.setprofile.\n        See the profiler chapter in the library manual.\n    \n    getrecursionlimit(...)\n        getrecursionlimit()\n        \n        Return the current value of the recursion limit, the maximum depth\n        of the Python interpreter stack.  This limit prevents infinite\n        recursion from causing an overflow of the C stack and crashing Python.\n    \n    getrefcount(...)\n        getrefcount(object) -> integer\n        \n        Return the reference count of object.  The count returned is generally\n        one higher than you might expect, because it includes the (temporary)\n        reference as an argument to getrefcount().\n    \n    getsizeof(...)\n        getsizeof(object, default) -> int\n        \n        Return the size of object in bytes.\n    \n    getswitchinterval(...)\n        getswitchinterval() -> current thread switch interval; see setswitchinterval().\n    \n    gettrace(...)\n        gettrace()\n        \n        Return the global debug tracing function set with sys.settrace.\n        See the debugger chapter in the library manual.\n    \n    getwindowsversion(...)\n        getwindowsversion()\n        \n        Return information about the running version of Windows as a named tuple.\n        The members are named: major, minor, build, platform, service_pack,\n        service_pack_major, service_pack_minor, suite_mask, and product_type. For\n        backward compatibility, only the first 5 items are available by indexing.\n        All elements are numbers, except service_pack and platform_type which are\n        strings, and platform_version which is a 3-tuple. Platform is always 2.\n        Product_type may be 1 for a workstation, 2 for a domain controller, 3 for a\n        server. Platform_version is a 3-tuple containing a version number that is\n        intended for identifying the OS rather than feature detection.\n    \n    intern(...)\n        intern(string) -> string\n        \n        ``Intern'' the given string.  This enters the string in the (global)\n        table of interned strings whose purpose is to speed up dictionary lookups.\n        Return the string itself or the previously interned string object with the\n        same value.\n    \n    is_finalizing(...)\n        is_finalizing()\n        Return True if Python is exiting.\n    \n    set_asyncgen_hooks(...)\n        set_asyncgen_hooks(*, firstiter=None, finalizer=None)\n        \n        Set a finalizer for async generators objects.\n    \n    set_coroutine_wrapper(...)\n        set_coroutine_wrapper(wrapper)\n        \n        Set a wrapper for coroutine objects.\n    \n    setcheckinterval(...)\n        setcheckinterval(n)\n        \n        Tell the Python interpreter to check for asynchronous events every\n        n instructions.  This also affects how often thread switches occur.\n    \n    setprofile(...)\n        setprofile(function)\n        \n        Set the profiling function.  It will be called on each function call\n        and return.  See the profiler chapter in the library manual.\n    \n    setrecursionlimit(...)\n        setrecursionlimit(n)\n        \n        Set the maximum depth of the Python interpreter stack to n.  This\n        limit prevents infinite recursion from causing an overflow of the C\n        stack and crashing Python.  The highest possible limit is platform-\n        dependent.\n    \n    setswitchinterval(...)\n        setswitchinterval(n)\n        \n        Set the ideal thread switching delay inside the Python interpreter\n        The actual frequency of switching threads can be lower if the\n        interpreter executes long sequences of uninterruptible code\n        (this is implementation-specific and workload-dependent).\n        \n        The parameter must represent the desired switching delay in seconds\n        A typical value is 0.005 (5 milliseconds).\n    \n    settrace(...)\n        settrace(function)\n        \n        Set the global debug tracing function.  It will be called on each\n        function call.  See the debugger chapter in the library manual.\n\nDATA\n    __stderr__ = <_io.TextIOWrapper name='<stderr>' mode='w' encoding='UTF...\n    __stdin__ = <_io.TextIOWrapper name='<stdin>' mode='r' encoding='UTF-8...\n    __stdout__ = <_io.TextIOWrapper name='<stdout>' mode='w' encoding='UTF...\n    api_version = 1013\n    argv = [r'E:\\python\\lib\\site-packages\\ipykernel_launcher.py', '-f', r'...\n    base_exec_prefix = r'E:\\python'\n    base_prefix = r'E:\\python'\n    builtin_module_names = ('_ast', '_bisect', '_blake2', '_codecs', '_cod...\n    byteorder = 'little'\n    copyright = 'Copyright (c) 2001-2017 Python Software Foundati...ematis...\n    displayhook = <ipykernel.displayhook.ZMQShellDisplayHook object>\n    dllhandle = 1692336128\n    dont_write_bytecode = False\n    exec_prefix = r'E:\\python'\n    executable = r'E:\\python\\python.exe'\n    flags = sys.flags(debug=0, inspect=0, interactive=0, opt...ing=0, quie...\n    float_info = sys.float_info(max=1.7976931348623157e+308, max_...epsilo...\n    float_repr_style = 'short'\n    hash_info = sys.hash_info(width=64, modulus=2305843009213693...iphash2...\n    hexversion = 50725872\n    implementation = namespace(cache_tag='cpython-36', hexversion=507...in...\n    int_info = sys.int_info(bits_per_digit=30, sizeof_digit=4)\n    last_value = NameError(\"name 'sys' is not defined\",)\n    maxsize = 9223372036854775807\n    maxunicode = 1114111\n    meta_path = [<class '_frozen_importlib.BuiltinImporter'>, <class '_fro...\n    modules = {'IPython': <module 'IPython' from 'E:\\\\python\\\\lib\\\\site-pa...\n    path = ['', r'G:\\pycharm\\process\\standard_libarary', r'E:\\python\\pytho...\n    path_hooks = [<class 'zipimport.zipimporter'>, <function FileFinder.pa...\n    path_importer_cache = {r'C:\\Users\\sunshine\\.ipython': FileFinder('C:\\\\...\n    platform = 'win32'\n    prefix = r'E:\\python'\n    ps1 = 'In : '\n    ps2 = '...: '\n    ps3 = 'Out: '\n    stderr = <ipykernel.iostream.OutStream object>\n    stdin = <_io.TextIOWrapper name='<stdin>' mode='r' encoding='UTF-8'>\n    stdout = <ipykernel.iostream.OutStream object>\n    thread_info = sys.thread_info(name='nt', lock=None, version=None)\n    version = '3.6.3 (v3.6.3:2c5fed8, Oct  3 2017, 18:11:49) [MSC v.1900 6...\n    version_info = sys.version_info(major=3, minor=6, micro=3, releaseleve...\n    warnoptions = []\n    winver = '3.6'\n\nFILE\n    (built-in)\n\n\n"
     ]
    }
   ],
   "source": [
    "import sys\n",
    "\n",
    "help(sys)"
   ]
  },
  {
   "cell_type": "code",
   "execution_count": 4,
   "metadata": {
    "collapsed": true
   },
   "outputs": [
    {
     "name": "stdout",
     "output_type": "stream",
     "text": [
      "Help on module string:\n\nNAME\n    string - A collection of string constants.\n\nDESCRIPTION\n    Public module variables:\n    \n    whitespace -- a string containing all ASCII whitespace\n    ascii_lowercase -- a string containing all ASCII lowercase letters\n    ascii_uppercase -- a string containing all ASCII uppercase letters\n    ascii_letters -- a string containing all ASCII letters\n    digits -- a string containing all ASCII decimal digits\n    hexdigits -- a string containing all ASCII hexadecimal digits\n    octdigits -- a string containing all ASCII octal digits\n    punctuation -- a string containing all ASCII punctuation characters\n    printable -- a string containing all ASCII characters considered printable\n\nCLASSES\n    builtins.object\n        Formatter\n        Template\n    \n    class Formatter(builtins.object)\n     |  Methods defined here:\n     |  \n     |  check_unused_args(self, used_args, args, kwargs)\n     |  \n     |  convert_field(self, value, conversion)\n     |  \n     |  format(*args, **kwargs)\n     |  \n     |  format_field(self, value, format_spec)\n     |  \n     |  get_field(self, field_name, args, kwargs)\n     |      # given a field_name, find the object it references.\n     |      #  field_name:   the field being looked up, e.g. \"0.name\"\n     |      #                 or \"lookup[3]\"\n     |      #  used_args:    a set of which args have been used\n     |      #  args, kwargs: as passed in to vformat\n     |  \n     |  get_value(self, key, args, kwargs)\n     |  \n     |  parse(self, format_string)\n     |      # returns an iterable that contains tuples of the form:\n     |      # (literal_text, field_name, format_spec, conversion)\n     |      # literal_text can be zero length\n     |      # field_name can be None, in which case there's no\n     |      #  object to format and output\n     |      # if field_name is not None, it is looked up, formatted\n     |      #  with format_spec and conversion and then used\n     |  \n     |  vformat(self, format_string, args, kwargs)\n     |  \n     |  ----------------------------------------------------------------------\n     |  Data descriptors defined here:\n     |  \n     |  __dict__\n     |      dictionary for instance variables (if defined)\n     |  \n     |  __weakref__\n     |      list of weak references to the object (if defined)\n    \n    class Template(builtins.object)\n     |  A string class for supporting $-substitutions.\n     |  \n     |  Methods defined here:\n     |  \n     |  __init__(self, template)\n     |      Initialize self.  See help(type(self)) for accurate signature.\n     |  \n     |  safe_substitute(*args, **kws)\n     |  \n     |  substitute(*args, **kws)\n     |  \n     |  ----------------------------------------------------------------------\n     |  Data descriptors defined here:\n     |  \n     |  __dict__\n     |      dictionary for instance variables (if defined)\n     |  \n     |  __weakref__\n     |      list of weak references to the object (if defined)\n     |  \n     |  ----------------------------------------------------------------------\n     |  Data and other attributes defined here:\n     |  \n     |  delimiter = '$'\n     |  \n     |  flags = <RegexFlag.IGNORECASE: 2>\n     |  \n     |  idpattern = '[_a-z][_a-z0-9]*'\n     |  \n     |  pattern = re.compile('\\n    \\\\$(?:\\n      (?P<escaped>\\\\$)..._a-z][_a-...\n\nFUNCTIONS\n    capwords(s, sep=None)\n        capwords(s [,sep]) -> string\n        \n        Split the argument into words using split, capitalize each\n        word using capitalize, and join the capitalized words using\n        join.  If the optional second argument sep is absent or None,\n        runs of whitespace characters are replaced by a single space\n        and leading and trailing whitespace are removed, otherwise\n        sep is used to split and join the words.\n\nDATA\n    __all__ = ['ascii_letters', 'ascii_lowercase', 'ascii_uppercase', 'cap...\n    ascii_letters = 'abcdefghijklmnopqrstuvwxyzABCDEFGHIJKLMNOPQRSTUVWXYZ'\n    ascii_lowercase = 'abcdefghijklmnopqrstuvwxyz'\n    ascii_uppercase = 'ABCDEFGHIJKLMNOPQRSTUVWXYZ'\n    digits = '0123456789'\n    hexdigits = '0123456789abcdefABCDEF'\n    octdigits = '01234567'\n    printable = '0123456789abcdefghijklmnopqrstuvwxyzABCDEFGHIJKLMNOPQRSTU...\n    punctuation = '!\"#$%&\\'()*+,-./:;<=>?@[\\\\]^_`{|}~'\n    whitespace = ' \\t\\n\\r\\x0b\\x0c'\n\nFILE\n    e:\\python\\lib\\string.py\n\n\n"
     ]
    }
   ],
   "source": [
    "import string\n",
    "help(string)"
   ]
  },
  {
   "cell_type": "code",
   "execution_count": 44,
   "metadata": {},
   "outputs": [
    {
     "data": {
      "text/plain": [
       "'The\\\\Quick\\\\Brown\\\\Fox\\\\Jumped\\\\Over\\\\The\\\\Lazy\\\\Dog'"
      ]
     },
     "execution_count": 44,
     "metadata": {},
     "output_type": "execute_result"
    }
   ],
   "source": [
    "s = \"The\\\\quick\\\\brown\\\\fox\\jumped\\over\\\\the\\lazy\\dog\"\n",
    "string.capwords(s,sep=\"\\\\\")"
   ]
  },
  {
   "cell_type": "code",
   "execution_count": 11,
   "metadata": {},
   "outputs": [
    {
     "name": "stdout",
     "output_type": "stream",
     "text": [
      "0123456789\n"
     ]
    }
   ],
   "source": [
    "print(string.digits)"
   ]
  },
  {
   "cell_type": "code",
   "execution_count": 12,
   "metadata": {},
   "outputs": [
    {
     "name": "stdout",
     "output_type": "stream",
     "text": [
      "abcdefghijklmnopqrstuvwxyzABCDEFGHIJKLMNOPQRSTUVWXYZ\nabcdefghijklmnopqrstuvwxyz\nABCDEFGHIJKLMNOPQRSTUVWXYZ\n"
     ]
    }
   ],
   "source": [
    "print(string.ascii_letters)\n",
    "print(string.ascii_lowercase)\n",
    "print(string.ascii_uppercase)"
   ]
  },
  {
   "cell_type": "code",
   "execution_count": 13,
   "metadata": {},
   "outputs": [
    {
     "name": "stdout",
     "output_type": "stream",
     "text": [
      "0123456789\n0123456789abcdefABCDEF\n01234567\n"
     ]
    }
   ],
   "source": [
    "print(string.digits)\n",
    "print(string.hexdigits)  #十六进制\n",
    "print(string.octdigits)  #八进制"
   ]
  },
  {
   "cell_type": "code",
   "execution_count": 15,
   "metadata": {},
   "outputs": [
    {
     "name": "stdout",
     "output_type": "stream",
     "text": [
      "0123456789abcdefghijklmnopqrstuvwxyzABCDEFGHIJKLMNOPQRSTUVWXYZ!\"#$%&'()*+,-./:;<=>?@[\\]^_`{|}~ \t\n\r\u000b\f\n!\"#$%&'()*+,-./:;<=>?@[\\]^_`{|}~\n \t\n\r\u000b\f\n"
     ]
    }
   ],
   "source": [
    "print(string.printable)   #可打印字符\n",
    "print(string.punctuation) #标点符号\n",
    "print(string.whitespace)\n",
    "#print(string._re)\n",
    "#print(string.__all__)"
   ]
  },
  {
   "cell_type": "code",
   "execution_count": 21,
   "metadata": {},
   "outputs": [
    {
     "name": "stdout",
     "output_type": "stream",
     "text": [
      "The quick brown fox jumped over the lazy dog\n"
     ]
    }
   ],
   "source": [
    "from string import Formatter\n",
    "Formatter.format()\n",
    "Formatter.check_unused_args()\n",
    "Formatter.convert_field()\n",
    "Formatter.format_field()\n",
    "Formatter.get_field()\n",
    "Formatter.get_value()\n",
    "Formatter.mro()\n",
    "Formatter.parse()\n",
    "Formatter.vformat()\n",
    "print(s.format())\n"
   ]
  },
  {
   "cell_type": "code",
   "execution_count": 30,
   "metadata": {
    "collapsed": true
   },
   "outputs": [
    {
     "data": {
      "text/plain": [
       "'Variable:foo Escape:$ Variable in text:fooiable'"
      ]
     },
     "execution_count": 30,
     "metadata": {},
     "output_type": "execute_result"
    }
   ],
   "source": [
    "from string import Template\n",
    "value = {'var':'foo'}\n",
    "t = Template(\"Variable:$var Escape:$$ Variable in text:${var}iable\")\n",
    "t.safe_substitute(value)"
   ]
  },
  {
   "cell_type": "code",
   "execution_count": 29,
   "metadata": {},
   "outputs": [
    {
     "data": {
      "text/plain": [
       "'tim likes kung pao'"
      ]
     },
     "execution_count": 29,
     "metadata": {},
     "output_type": "execute_result"
    }
   ],
   "source": [
    "from string import Template\n",
    "values = { 'who':'tim','what':'kung pao'}\n",
    "s = Template('$who likes $what')\n",
    "s.substitute(values)"
   ]
  },
  {
   "cell_type": "code",
   "execution_count": null,
   "metadata": {},
   "outputs": [],
   "source": [
    "import textwrap\n",
    "textwrap.fill()"
   ]
  }
 ],
 "metadata": {
  "kernelspec": {
   "display_name": "Python 2",
   "language": "python",
   "name": "python2"
  },
  "language_info": {
   "codemirror_mode": {
    "name": "ipython",
    "version": 2
   },
   "file_extension": ".py",
   "mimetype": "text/x-python",
   "name": "python",
   "nbconvert_exporter": "python",
   "pygments_lexer": "ipython2",
   "version": "2.7.6"
  }
 },
 "nbformat": 4,
 "nbformat_minor": 0
}
